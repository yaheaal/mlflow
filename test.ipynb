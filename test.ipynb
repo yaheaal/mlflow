{
 "cells": [
  {
   "cell_type": "code",
   "execution_count": null,
   "metadata": {},
   "outputs": [],
   "source": [
    "from pprint import pprint\n",
    "import numpy as np\n",
    "from sklearn.linear_model import LinearRegression\n",
    "import mlflow\n",
    "from mlflow import MlflowClient\n",
    "\n",
    "\n",
    "def fetch_logged_data(run_id):\n",
    "    client = MlflowClient()\n",
    "    data = client.get_run(run_id).data\n",
    "    tags = {k: v for k, v in data.tags.items() if not k.startswith(\"mlflow.\")}\n",
    "    artifacts = [f.path for f in client.list_artifacts(run_id, \"model\")]\n",
    "    return data.params, data.metrics, tags, artifacts\n",
    "\n",
    "\n",
    "# enable autologging\n",
    "mlflow.sklearn.autolog()\n",
    "\n",
    "# prepare training data\n",
    "X = np.array([[1, 1], [1, 2], [2, 2], [2, 3]])\n",
    "y = np.dot(X, np.array([1, 2])) + 3\n",
    "\n",
    "# train a model\n",
    "model = LinearRegression(fit_intercept=False, n_jobs=-1)\n",
    "with mlflow.start_run() as run:\n",
    "    model.fit(X, y)\n",
    "\n",
    "# fetch logged data\n",
    "params, metrics, tags, artifacts = fetch_logged_data(run.info.run_id)\n",
    "\n",
    "pprint(params)\n",
    "# {'copy_X': 'True',\n",
    "#  'fit_intercept': 'True',\n",
    "#  'n_jobs': 'None',\n",
    "#  'normalize': 'False'}\n",
    "\n",
    "pprint(metrics)\n",
    "# {'training_score': 1.0,\n",
    "#  'training_mean_absolute_error': 2.220446049250313e-16,\n",
    "#  'training_mean_squared_error': 1.9721522630525295e-31,\n",
    "#  'training_r2_score': 1.0,\n",
    "#  'training_root_mean_squared_error': 4.440892098500626e-16}\n",
    "\n",
    "pprint(tags)\n",
    "# {'estimator_class': 'sklearn.linear_model._base.LinearRegression',\n",
    "#  'estimator_name': 'LinearRegression'}\n",
    "\n",
    "pprint(artifacts)\n",
    "# ['model/MLmodel', 'model/conda.yaml', 'model/model.pkl']\n"
   ]
  },
  {
   "cell_type": "code",
   "execution_count": null,
   "metadata": {},
   "outputs": [],
   "source": []
  }
 ],
 "metadata": {
  "kernelspec": {
   "display_name": "mf",
   "language": "python",
   "name": "python3"
  },
  "language_info": {
   "codemirror_mode": {
    "name": "ipython",
    "version": 3
   },
   "file_extension": ".py",
   "mimetype": "text/x-python",
   "name": "python",
   "nbconvert_exporter": "python",
   "pygments_lexer": "ipython3",
   "version": "3.10.8"
  }
 },
 "nbformat": 4,
 "nbformat_minor": 2
}
