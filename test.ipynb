{
 "cells": [
  {
   "cell_type": "code",
   "execution_count": 1,
   "metadata": {},
   "outputs": [],
   "source": [
    "# import os\n",
    "\n",
    "# # Set environment variables\n",
    "# os.environ['MLFLOW_TRACKING_USERNAME'] = 'yaheaal'\n",
    "# os.environ['MLFLOW_TRACKING_PASSWORD'] = '2906579654c84f55e7553b0aad18684378c91a8e'\n",
    "\n",
    "# # Now, you can use these environment variables in your code\n",
    "# # For example, to print them out to verify they're set:\n",
    "# print(\"MLFLOW_TRACKING_USERNAME:\", os.environ.get('MLFLOW_TRACKING_USERNAME'))\n",
    "# print(\"MLFLOW_TRACKING_PASSWORD:\", os.environ.get('MLFLOW_TRACKING_PASSWORD'))"
   ]
  },
  {
   "cell_type": "code",
   "execution_count": 3,
   "metadata": {},
   "outputs": [
    {
     "name": "stdout",
     "output_type": "stream",
     "text": [
      "{'copy_X': 'True', 'fit_intercept': 'True', 'n_jobs': '-1', 'positive': 'False'}\n",
      "{'training_mean_absolute_error': 0.0,\n",
      " 'training_mean_squared_error': 0.0,\n",
      " 'training_r2_score': 1.0,\n",
      " 'training_root_mean_squared_error': 0.0,\n",
      " 'training_score': 1.0}\n",
      "{'estimator_class': 'sklearn.linear_model._base.LinearRegression',\n",
      " 'estimator_name': 'LinearRegression'}\n",
      "['model/MLmodel',\n",
      " 'model/conda.yaml',\n",
      " 'model/model.pkl',\n",
      " 'model/python_env.yaml',\n",
      " 'model/requirements.txt']\n"
     ]
    }
   ],
   "source": [
    "from pprint import pprint\n",
    "import numpy as np\n",
    "from sklearn.linear_model import LinearRegression\n",
    "import mlflow\n",
    "from mlflow import MlflowClient\n",
    "\n",
    "mlflow.set_tracking_uri(\"https://dagshub.com/yaheaal/mlflow.mlflow\")\n",
    "\n",
    "def fetch_logged_data(run_id):\n",
    "    client = MlflowClient()\n",
    "    data = client.get_run(run_id).data\n",
    "    tags = {k: v for k, v in data.tags.items() if not k.startswith(\"mlflow.\")}\n",
    "    artifacts = [f.path for f in client.list_artifacts(run_id, \"model\")]\n",
    "    return data.params, data.metrics, tags, artifacts\n",
    "\n",
    "\n",
    "# enable autologging\n",
    "mlflow.sklearn.autolog()\n",
    "\n",
    "# prepare training data\n",
    "X = np.array([[1, 1], [1, 2], [2, 1], [3, 3]])\n",
    "y = np.dot(X, np.array([1, 2])) + 3\n",
    "\n",
    "# train a model\n",
    "model = LinearRegression(fit_intercept=True, n_jobs=-1)\n",
    "with mlflow.start_run() as run:\n",
    "    model.fit(X, y)\n",
    "\n",
    "# fetch logged data\n",
    "params, metrics, tags, artifacts = fetch_logged_data(run.info.run_id)\n",
    "\n",
    "pprint(params)\n",
    "pprint(metrics)\n",
    "pprint(tags)\n",
    "pprint(artifacts)"
   ]
  },
  {
   "cell_type": "code",
   "execution_count": null,
   "metadata": {},
   "outputs": [],
   "source": []
  }
 ],
 "metadata": {
  "kernelspec": {
   "display_name": "mf",
   "language": "python",
   "name": "python3"
  },
  "language_info": {
   "codemirror_mode": {
    "name": "ipython",
    "version": 3
   },
   "file_extension": ".py",
   "mimetype": "text/x-python",
   "name": "python",
   "nbconvert_exporter": "python",
   "pygments_lexer": "ipython3",
   "version": "3.10.8"
  }
 },
 "nbformat": 4,
 "nbformat_minor": 2
}
