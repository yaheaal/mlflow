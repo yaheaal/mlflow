{
 "cells": [
  {
   "cell_type": "code",
   "execution_count": null,
   "metadata": {},
   "outputs": [],
   "source": [
    "# https://www.youtube.com/@manuelgilsitio\n",
    "# # pip install mlflow"
   ]
  },
  {
   "cell_type": "code",
   "execution_count": 1,
   "metadata": {},
   "outputs": [],
   "source": [
    "import mlflow"
   ]
  },
  {
   "cell_type": "code",
   "execution_count": null,
   "metadata": {},
   "outputs": [
    {
     "name": "stdout",
     "output_type": "stream",
     "text": [
      "890809054563506237\n"
     ]
    }
   ],
   "source": [
    "experiment_id = mlflow.create_experiment(\n",
    "    name=\"testing_mlflow1\",\n",
    "    artifact_location=\"testing_mlflow1_artifacts\",\n",
    "    tags={\"env\": \"dev\", \"version\": \"1.0.0\"},\n",
    ")\n",
    "\n",
    "print(experiment_id)"
   ]
  },
  {
   "cell_type": "code",
   "execution_count": null,
   "metadata": {},
   "outputs": [],
   "source": [
    "# mlflow ui"
   ]
  },
  {
   "cell_type": "code",
   "execution_count": 3,
   "metadata": {},
   "outputs": [],
   "source": [
    "experiment = mlflow.get_experiment('890809054563506237')"
   ]
  },
  {
   "cell_type": "code",
   "execution_count": 4,
   "metadata": {},
   "outputs": [
    {
     "data": {
      "text/plain": [
       "<Experiment: artifact_location='/Users/yaheaal/Desktop/mlflow/testing_mlflow1_artifacts', creation_time=1735286066094, experiment_id='890809054563506237', last_update_time=1735286066094, lifecycle_stage='active', name='testing_mlflow1', tags={'env': 'dev', 'version': '1.0.0'}>"
      ]
     },
     "execution_count": 4,
     "metadata": {},
     "output_type": "execute_result"
    }
   ],
   "source": [
    "experiment"
   ]
  },
  {
   "cell_type": "code",
   "execution_count": 5,
   "metadata": {},
   "outputs": [
    {
     "name": "stdout",
     "output_type": "stream",
     "text": [
      "Name: testing_mlflow1\n",
      "Experiment_id: 890809054563506237\n",
      "Artifact Location: /Users/yaheaal/Desktop/mlflow/testing_mlflow1_artifacts\n",
      "Tags: {'env': 'dev', 'version': '1.0.0'}\n",
      "Lifecycle_stage: active\n",
      "Creation timestamp: 1735286066094\n"
     ]
    }
   ],
   "source": [
    "print(\"Name: {}\".format(experiment.name))\n",
    "print(\"Experiment_id: {}\".format(experiment.experiment_id))\n",
    "print(\"Artifact Location: {}\".format(experiment.artifact_location))\n",
    "print(\"Tags: {}\".format(experiment.tags))\n",
    "print(\"Lifecycle_stage: {}\".format(experiment.lifecycle_stage))\n",
    "print(\"Creation timestamp: {}\".format(experiment.creation_time))"
   ]
  },
  {
   "cell_type": "code",
   "execution_count": 6,
   "metadata": {},
   "outputs": [],
   "source": [
    "mlflow.delete_experiment(experiment_id='890809054563506237')"
   ]
  },
  {
   "cell_type": "code",
   "execution_count": 7,
   "metadata": {},
   "outputs": [],
   "source": [
    "# mlflow.set_experiment(\"testing_mlflow1\")\n",
    "\n",
    "mlflow.start_run()\n",
    "mlflow.log_param(\"learning_rate\", 0.01)\n",
    "mlflow.end_run()"
   ]
  },
  {
   "cell_type": "code",
   "execution_count": null,
   "metadata": {},
   "outputs": [],
   "source": []
  }
 ],
 "metadata": {
  "kernelspec": {
   "display_name": "env",
   "language": "python",
   "name": "python3"
  },
  "language_info": {
   "codemirror_mode": {
    "name": "ipython",
    "version": 3
   },
   "file_extension": ".py",
   "mimetype": "text/x-python",
   "name": "python",
   "nbconvert_exporter": "python",
   "pygments_lexer": "ipython3",
   "version": "3.10.8"
  }
 },
 "nbformat": 4,
 "nbformat_minor": 2
}
