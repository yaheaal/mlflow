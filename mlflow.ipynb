{
 "cells": [
  {
   "cell_type": "markdown",
   "metadata": {},
   "source": [
    "### 1. MLflow installation"
   ]
  },
  {
   "cell_type": "code",
   "execution_count": 1,
   "metadata": {},
   "outputs": [],
   "source": [
    "# https://www.youtube.com/@manuelgilsitio\n",
    "# # pip install mlflow"
   ]
  },
  {
   "cell_type": "code",
   "execution_count": 2,
   "metadata": {},
   "outputs": [],
   "source": [
    "import mlflow"
   ]
  },
  {
   "cell_type": "markdown",
   "metadata": {},
   "source": [
    "### 2. Create an Experiment"
   ]
  },
  {
   "cell_type": "code",
   "execution_count": 3,
   "metadata": {},
   "outputs": [
    {
     "name": "stdout",
     "output_type": "stream",
     "text": [
      "276279840851845429\n"
     ]
    }
   ],
   "source": [
    "import mlflow\n",
    "\n",
    "if __name__ == \"__main__\":\n",
    "    # create a new mlflow experiment\n",
    "    experiment_id = mlflow.create_experiment(\n",
    "        name=\"testing_mlflow1\",\n",
    "        artifact_location=\"testing_mlflow1_artifacts\",\n",
    "        tags={\"env\": \"dev\", \"version\": \"1.0.0\"},\n",
    "    )\n",
    "\n",
    "    print(experiment_id)"
   ]
  },
  {
   "cell_type": "code",
   "execution_count": 4,
   "metadata": {},
   "outputs": [],
   "source": [
    "# mlflow ui"
   ]
  },
  {
   "cell_type": "code",
   "execution_count": 4,
   "metadata": {},
   "outputs": [
    {
     "name": "stdout",
     "output_type": "stream",
     "text": [
      "Experiment testing_mlflow1 already exists.\n",
      "276279840851845429\n"
     ]
    }
   ],
   "source": [
    "from mlflow_utils import create_mlflow_experiment\n",
    "\n",
    "experiment_id = create_mlflow_experiment(experiment_name='testing_mlflow1',\n",
    "                                        artifact_location='testing_mlflow1_artifacts',\n",
    "                                        tags={\"env\": \"dev\", \"version\": \"1.0.0\"})\n",
    "print(experiment_id)"
   ]
  },
  {
   "cell_type": "markdown",
   "metadata": {},
   "source": [
    "### 2. Retrieving Experiments"
   ]
  },
  {
   "cell_type": "code",
   "execution_count": 5,
   "metadata": {},
   "outputs": [],
   "source": [
    "from mlflow_utils import get_mlflow_experiment"
   ]
  },
  {
   "cell_type": "code",
   "execution_count": 6,
   "metadata": {},
   "outputs": [
    {
     "name": "stdout",
     "output_type": "stream",
     "text": [
      "Name: testing_mlflow1\n",
      "Experiment_id: 276279840851845429\n",
      "Artifact Location: /Users/yaheaal/Desktop/mlflow/testing_mlflow1_artifacts\n",
      "Tags: {'env': 'dev', 'version': '1.0.0'}\n",
      "Lifecycle_stage: active\n",
      "Creation timestamp: 1736607151112\n"
     ]
    }
   ],
   "source": [
    "experiment = get_mlflow_experiment(experiment_id=\"276279840851845429\")\n",
    "\n",
    "print(\"Name: {}\".format(experiment.name))\n",
    "print(\"Experiment_id: {}\".format(experiment.experiment_id))\n",
    "print(\"Artifact Location: {}\".format(experiment.artifact_location))\n",
    "print(\"Tags: {}\".format(experiment.tags))\n",
    "print(\"Lifecycle_stage: {}\".format(experiment.lifecycle_stage))\n",
    "print(\"Creation timestamp: {}\".format(experiment.creation_time))"
   ]
  },
  {
   "cell_type": "markdown",
   "metadata": {},
   "source": [
    "### 3. Deleting experiment"
   ]
  },
  {
   "cell_type": "code",
   "execution_count": null,
   "metadata": {},
   "outputs": [],
   "source": [
    "mlflow.delete_experiment(experiment_id=\"563706849223920094\")"
   ]
  },
  {
   "cell_type": "markdown",
   "metadata": {},
   "source": [
    "### 4. MLflow runs"
   ]
  },
  {
   "cell_type": "code",
   "execution_count": 9,
   "metadata": {},
   "outputs": [],
   "source": [
    "mlflow.start_run()\n",
    "mlflow.log_param(\"learning_rate\",0.01)\n",
    "mlflow.end_run()"
   ]
  },
  {
   "cell_type": "code",
   "execution_count": null,
   "metadata": {},
   "outputs": [
    {
     "name": "stdout",
     "output_type": "stream",
     "text": [
      "RUN ID\n",
      "d084706fde564cc3a302bcefe729cb30\n",
      "<RunInfo: artifact_uri='/Users/yaheaal/Desktop/mlflow/testing_mlflow1_artifacts/d084706fde564cc3a302bcefe729cb30/artifacts', end_time=None, experiment_id='276279840851845429', lifecycle_stage='active', run_id='d084706fde564cc3a302bcefe729cb30', run_name='mlflow_runs', run_uuid='d084706fde564cc3a302bcefe729cb30', start_time=1736607410321, status='RUNNING', user_id='yaheaal'>\n"
     ]
    }
   ],
   "source": [
    "with mlflow.start_run(run_name=\"mlflow_runs\") as run:\n",
    "\n",
    "    # Your machine learning code goes here\n",
    "    mlflow.log_param(\"learning_rate\",0.01)\n",
    "    print(\"RUN ID\")\n",
    "    print(run.info.run_id)\n",
    "\n",
    "    print(run.info)"
   ]
  },
  {
   "cell_type": "code",
   "execution_count": 12,
   "metadata": {},
   "outputs": [
    {
     "name": "stdout",
     "output_type": "stream",
     "text": [
      "Experiment testing_mlflow1 already exists.\n",
      "Name: testing_mlflow1\n",
      "run_id: 3d4fbe1a049542afbbc07f957250b3ce\n",
      "experiment_id: 276279840851845429\n",
      "status: RUNNING\n",
      "start_time: 1736607562194\n",
      "end_time: None\n",
      "lifecycle_stage: active\n"
     ]
    }
   ],
   "source": [
    "import mlflow\n",
    "from mlflow_utils import create_mlflow_experiment, get_mlflow_experiment\n",
    "\n",
    "experiment_id = create_mlflow_experiment(\n",
    "    experiment_name=\"testing_mlflow1\",\n",
    "    artifact_location=\"testing_mlflow1_artifacts\",\n",
    "    tags={\"env\": \"dev\", \"version\": \"1.0.0\"},\n",
    ")\n",
    "experiment = get_mlflow_experiment(experiment_id=experiment_id)\n",
    "print(\"Name: {}\".format(experiment.name))\n",
    "with mlflow.start_run(run_name=\"testing\", experiment_id = experiment.experiment_id) as run:\n",
    "\n",
    "    # Your machine learning code goes here\n",
    "    mlflow.log_param(\"learning_rate\",0.01)\n",
    "    # print run info    \n",
    "    print(\"run_id: {}\".format(run.info.run_id))\n",
    "    print(\"experiment_id: {}\".format(run.info.experiment_id))\n",
    "    print(\"status: {}\".format(run.info.status))\n",
    "    print(\"start_time: {}\".format(run.info.start_time))\n",
    "    print(\"end_time: {}\".format(run.info.end_time))\n",
    "    print(\"lifecycle_stage: {}\".format(run.info.lifecycle_stage))"
   ]
  },
  {
   "cell_type": "markdown",
   "metadata": {},
   "source": [
    "### 5. Logging Parameters"
   ]
  },
  {
   "cell_type": "code",
   "execution_count": 13,
   "metadata": {},
   "outputs": [
    {
     "name": "stdout",
     "output_type": "stream",
     "text": [
      "Name: testing_mlflow1\n",
      "run_id: f288f93033fa4e9581e3e6ffa2b58ff2\n",
      "experiment_id: 276279840851845429\n",
      "status: RUNNING\n",
      "start_time: 1736607769603\n",
      "end_time: None\n",
      "lifecycle_stage: active\n"
     ]
    }
   ],
   "source": [
    "import mlflow\n",
    "from mlflow_utils import get_mlflow_experiment\n",
    "\n",
    "\n",
    "experiment = get_mlflow_experiment(experiment_name=\"testing_mlflow1\")\n",
    "print(\"Name: {}\".format(experiment.name))\n",
    "\n",
    "with mlflow.start_run(run_name=\"logging_params\", experiment_id = experiment.experiment_id) as run:\n",
    "\n",
    "    # Your machine learning code goes here\n",
    "    mlflow.log_param(\"learning_rate\", 0.01)\n",
    "\n",
    "    parameters = {\n",
    "        \"learning_rate\": 0.01,\n",
    "        \"epochs\": 10,\n",
    "        \"batch_size\": 100,\n",
    "        \"loss_function\": \"mse\",\n",
    "        \"optimizer\": \"adam\"\n",
    "    }\n",
    "\n",
    "    mlflow.log_params(parameters)\n",
    "\n",
    "    # print run info\n",
    "    print(\"run_id: {}\".format(run.info.run_id))\n",
    "    print(\"experiment_id: {}\".format(run.info.experiment_id))\n",
    "    print(\"status: {}\".format(run.info.status))\n",
    "    print(\"start_time: {}\".format(run.info.start_time))\n",
    "    print(\"end_time: {}\".format(run.info.end_time))\n",
    "    print(\"lifecycle_stage: {}\".format(run.info.lifecycle_stage))"
   ]
  },
  {
   "cell_type": "markdown",
   "metadata": {},
   "source": [
    "### 6. Logging Metrics"
   ]
  },
  {
   "cell_type": "code",
   "execution_count": 14,
   "metadata": {},
   "outputs": [
    {
     "name": "stdout",
     "output_type": "stream",
     "text": [
      "Name: testing_mlflow1\n",
      "run_id: f0b372bde9aa4706a8fd467478529760\n",
      "experiment_id: 276279840851845429\n",
      "status: RUNNING\n",
      "start_time: 1736607884659\n",
      "end_time: None\n",
      "lifecycle_stage: active\n"
     ]
    }
   ],
   "source": [
    "import mlflow \n",
    "from mlflow_utils import get_mlflow_experiment\n",
    "\n",
    "experiment = get_mlflow_experiment(experiment_name=\"testing_mlflow1\")\n",
    "print(\"Name: {}\".format(experiment.name))\n",
    "\n",
    "with mlflow.start_run(run_name=\"logging_metrics\", experiment_id = experiment.experiment_id) as run:\n",
    "    # Your machine learning code goes here\n",
    "\n",
    "    mlflow.log_metric(\"random_metric\", 0.01)\n",
    "\n",
    "    metrics = {\n",
    "        \"mse\": 0.01,\n",
    "        \"mae\": 0.01,\n",
    "        \"rmse\": 0.01,\n",
    "        \"r2\": 0.01\n",
    "    }\n",
    "\n",
    "    mlflow.log_metrics(metrics)\n",
    "\n",
    "    # print run info\n",
    "    print(\"run_id: {}\".format(run.info.run_id))\n",
    "    print(\"experiment_id: {}\".format(run.info.experiment_id))\n",
    "    print(\"status: {}\".format(run.info.status))\n",
    "    print(\"start_time: {}\".format(run.info.start_time))\n",
    "    print(\"end_time: {}\".format(run.info.end_time))\n",
    "    print(\"lifecycle_stage: {}\".format(run.info.lifecycle_stage))"
   ]
  },
  {
   "cell_type": "markdown",
   "metadata": {},
   "source": [
    "### 7. Logging artifacts"
   ]
  },
  {
   "cell_type": "code",
   "execution_count": 15,
   "metadata": {},
   "outputs": [
    {
     "name": "stdout",
     "output_type": "stream",
     "text": [
      "Name: testing_mlflow1\n",
      "run_id: 69eb26c072d5446badd177d8d8f0d0d2\n",
      "experiment_id: 276279840851845429\n",
      "status: RUNNING\n",
      "start_time: 1736608009287\n",
      "end_time: None\n",
      "lifecycle_stage: active\n"
     ]
    }
   ],
   "source": [
    "import mlflow\n",
    "from mlflow_utils import get_mlflow_experiment\n",
    "\n",
    "experiment = get_mlflow_experiment(experiment_name=\"testing_mlflow1\")\n",
    "\n",
    "print(\"Name: {}\".format(experiment.name))\n",
    "\n",
    "with mlflow.start_run(run_name=\"logging_artifacts\", experiment_id=experiment.experiment_id) as run:\n",
    "\n",
    "    # your machine learning code goes here\n",
    "\n",
    "    # create a text file that says hello world\n",
    "    with open(\"hello_world.txt\", \"w\") as f:\n",
    "        f.write(\"Hello World!\")\n",
    "\n",
    "    # log the text file as an artifact\n",
    "    mlflow.log_artifact(local_path=\"hello_world.txt\", artifact_path=\"text_files\")\n",
    "\n",
    "    # print run info\n",
    "    print(\"run_id: {}\".format(run.info.run_id))\n",
    "    print(\"experiment_id: {}\".format(run.info.experiment_id))\n",
    "    print(\"status: {}\".format(run.info.status))\n",
    "    print(\"start_time: {}\".format(run.info.start_time))\n",
    "    print(\"end_time: {}\".format(run.info.end_time))\n",
    "    print(\"lifecycle_stage: {}\".format(run.info.lifecycle_stage))"
   ]
  },
  {
   "cell_type": "code",
   "execution_count": 16,
   "metadata": {},
   "outputs": [
    {
     "name": "stdout",
     "output_type": "stream",
     "text": [
      "Name: testing_mlflow1\n",
      "run_id: d16720fdf01542a98d9fe38498e07526\n",
      "experiment_id: 276279840851845429\n",
      "status: RUNNING\n",
      "start_time: 1736608468851\n",
      "end_time: None\n",
      "lifecycle_stage: active\n"
     ]
    }
   ],
   "source": [
    "import mlflow\n",
    "from mlflow_utils import get_mlflow_experiment\n",
    "\n",
    "experiment = get_mlflow_experiment(experiment_name=\"testing_mlflow1\")\n",
    "\n",
    "print(\"Name: {}\".format(experiment.name))\n",
    "\n",
    "with mlflow.start_run(run_name=\"logging_artifacts\", experiment_id=experiment.experiment_id) as run:\n",
    "\n",
    "    # your machine learning code goes here\n",
    "\n",
    "    mlflow.log_artifacts(local_dir=\"./run_artifacts\",artifact_path=\"run_artifacts\")\n",
    "\n",
    "    # print run info\n",
    "    print(\"run_id: {}\".format(run.info.run_id))\n",
    "    print(\"experiment_id: {}\".format(run.info.experiment_id))\n",
    "    print(\"status: {}\".format(run.info.status))\n",
    "    print(\"start_time: {}\".format(run.info.start_time))\n",
    "    print(\"end_time: {}\".format(run.info.end_time))\n",
    "    print(\"lifecycle_stage: {}\".format(run.info.lifecycle_stage))   "
   ]
  },
  {
   "cell_type": "markdown",
   "metadata": {},
   "source": [
    "### 8. Logging images with MLflow"
   ]
  },
  {
   "cell_type": "code",
   "execution_count": 17,
   "metadata": {},
   "outputs": [
    {
     "name": "stdout",
     "output_type": "stream",
     "text": [
      "Name: testing_mlflow1\n"
     ]
    },
    {
     "name": "stderr",
     "output_type": "stream",
     "text": [
      "/var/folders/v9/c6z_1xyn2rn5f9j2x3jxhgcm0000gn/T/ipykernel_63475/585382835.py:46: UserWarning: No artists with labels found to put in legend.  Note that artists whose label start with an underscore are ignored when legend() is called with no argument.\n",
      "  plt.legend()\n"
     ]
    },
    {
     "name": "stdout",
     "output_type": "stream",
     "text": [
      "run_id: eb2558bde7564b12b6f78e0fcdd8f04e\n",
      "experiment_id: 276279840851845429\n",
      "status: RUNNING\n",
      "start_time: 1736608710428\n",
      "end_time: None\n",
      "lifecycle_stage: active\n"
     ]
    },
    {
     "data": {
      "image/png": "[encoded data removed]",
      "text/plain": [
       "<Figure size 640x480 with 1 Axes>"
      ]
     },
     "metadata": {},
     "output_type": "display_data"
    },
    {
     "data": {
      "image/png": "[encoded data removed]",
      "text/plain": [
       "<Figure size 640x480 with 1 Axes>"
      ]
     },
     "metadata": {},
     "output_type": "display_data"
    },
    {
     "data": {
      "image/png": "[encoded data removed]",
      "text/plain": [
       "<Figure size 640x480 with 2 Axes>"
      ]
     },
     "metadata": {},
     "output_type": "display_data"
    }
   ],
   "source": [
    "import mlflow\n",
    "from mlflow_utils import get_mlflow_experiment\n",
    "\n",
    "from sklearn.datasets import make_classification\n",
    "from sklearn.model_selection import train_test_split\n",
    "from sklearn.ensemble import RandomForestClassifier\n",
    "\n",
    "from sklearn.metrics import PrecisionRecallDisplay\n",
    "from sklearn.metrics import RocCurveDisplay\n",
    "from sklearn.metrics import ConfusionMatrixDisplay\n",
    "\n",
    "import matplotlib.pyplot as plt\n",
    "\n",
    "experiment = get_mlflow_experiment(experiment_name=\"testing_mlflow1\")\n",
    "print(\"Name: {}\".format(experiment.name))\n",
    "\n",
    "with mlflow.start_run(run_name=\"logging_images\", experiment_id=experiment.experiment_id) as run:\n",
    "\n",
    "    X, y = make_classification(n_samples=1000, n_features=10, n_informative=5, n_redundant=5, random_state=42)\n",
    "    X_train, X_test, y_train, y_test = train_test_split(X, y, test_size=0.2, random_state=43)\n",
    "\n",
    "    rfc = RandomForestClassifier(n_estimators=100, random_state=42)\n",
    "    rfc.fit(X_train, y_train)\n",
    "    y_pred = rfc.predict(X_test)\n",
    "\n",
    "    # log the precision-recall curve\n",
    "    fig_pr = plt.figure()\n",
    "    pr_display = PrecisionRecallDisplay.from_predictions(y_test, y_pred, ax=plt.gca())\n",
    "    plt.title(\"Precision-Recall Curve\")\n",
    "    plt.legend()\n",
    "\n",
    "    mlflow.log_figure(fig_pr, \"metrics/precision_recall_curve.png\")\n",
    "\n",
    "    # log the ROC curve\n",
    "    fig_roc = plt.figure()\n",
    "    roc_display = RocCurveDisplay.from_predictions(y_test, y_pred, ax=plt.gca())\n",
    "    plt.title(\"ROC Curve\")\n",
    "    plt.legend()\n",
    "\n",
    "    mlflow.log_figure(fig_roc, \"metrics/roc_curve.png\")\n",
    "\n",
    "    # log the confusion matrix\n",
    "    fig_cm = plt.figure()\n",
    "    cm_display = ConfusionMatrixDisplay.from_predictions(y_test, y_pred, ax=plt.gca())\n",
    "    plt.title(\"Confusion Matrix\")\n",
    "    plt.legend()\n",
    "\n",
    "    mlflow.log_figure(fig_cm, \"metrics/confusion_matrix.png\")\n",
    "\n",
    "    # print info about the run\n",
    "    print(\"run_id: {}\".format(run.info.run_id))\n",
    "    print(\"experiment_id: {}\".format(run.info.experiment_id))\n",
    "    print(\"status: {}\".format(run.info.status))\n",
    "    print(\"start_time: {}\".format(run.info.start_time))\n",
    "    print(\"end_time: {}\".format(run.info.end_time))\n",
    "    print(\"lifecycle_stage: {}\".format(run.info.lifecycle_stage))"
   ]
  },
  {
   "cell_type": "markdown",
   "metadata": {},
   "source": [
    "### 9. Logging models with MLflow"
   ]
  },
  {
   "cell_type": "code",
   "execution_count": null,
   "metadata": {},
   "outputs": [
    {
     "name": "stdout",
     "output_type": "stream",
     "text": [
      "Name: testing_mlflow1\n",
      "run_id: 83027695d499496aae7fdcc61f98a434\n",
      "experiment_id: 276279840851845429\n",
      "status: RUNNING\n",
      "start_time: 1736609600482\n",
      "end_time: None\n",
      "lifecycle_stage: active\n"
     ]
    }
   ],
   "source": [
    "import mlflow\n",
    "from mlflow_utils import get_mlflow_experiment\n",
    "\n",
    "from sklearn.datasets import make_classification\n",
    "from sklearn.model_selection import train_test_split\n",
    "from sklearn.ensemble import RandomForestClassifier\n",
    "\n",
    "experiment = get_mlflow_experiment(experiment_name=\"testing_mlflow1\")\n",
    "print(\"Name: {}\".format(experiment.name))\n",
    "\n",
    "with mlflow.start_run(run_name=\"logging_models\", experiment_id=experiment.experiment_id) as run:\n",
    "    \n",
    "    X, y = make_classification(n_samples=1000, n_features=10, n_informative=5, n_redundant=5, random_state=42)\n",
    "    X_train, X_test, y_train, y_test = train_test_split(X, y, test_size=0.2, random_state=43)\n",
    "\n",
    "    # log model using autolog\n",
    "    mlflow.autolog()\n",
    "\n",
    "    rfc = RandomForestClassifier(n_estimators=100, random_state=42)\n",
    "    rfc.fit(X_train, y_train)\n",
    "    y_pred = rfc.predict(X_test)\n",
    "\n",
    "    # print info about the run\n",
    "    print(\"run_id: {}\".format(run.info.run_id))\n",
    "    print(\"experiment_id: {}\".format(run.info.experiment_id))\n",
    "    print(\"status: {}\".format(run.info.status))\n",
    "    print(\"start_time: {}\".format(run.info.start_time))\n",
    "    print(\"end_time: {}\".format(run.info.end_time))\n",
    "    print(\"lifecycle_stage: {}\".format(run.info.lifecycle_stage))"
   ]
  },
  {
   "cell_type": "markdown",
   "metadata": {},
   "source": [
    "### 10. Model Inference with MLflow"
   ]
  },
  {
   "cell_type": "code",
   "execution_count": null,
   "metadata": {},
   "outputs": [],
   "source": [
    "import mlflow\n",
    "\n",
    "from sklearn.datasets import make_classification\n",
    "from sklearn.model_selection import train_test_split\n",
    "\n",
    "import pandas as pd \n",
    "\n",
    "if __name__==\"__main__\":\n",
    "\n",
    "    run_id = \"83027695d499496aae7fdcc61f98a434\"\n",
    "        \n",
    "    X, y = make_classification(n_samples=1000, n_features=10, n_informative=5, n_redundant=5, random_state=42)\n",
    "    X = pd.DataFrame(X, columns=[\"feature_{}\".format(i) for i in range(10)])\n",
    "    y = pd.DataFrame(y, columns=[\"target\"])\n",
    "\n",
    "    _, X_test, _, y_test = train_test_split(X, y, test_size=0.2, random_state=43)\n",
    "\n",
    "    # load model\n",
    "    # f'runs:/{run_id}/random_forest_classifier'\n",
    "    model_uri = 'runs:/83027695d499496aae7fdcc61f98a434/model'\n",
    "    \n",
    "    rfc = mlflow.sklearn.load_model(model_uri=model_uri)\n",
    "\n",
    "    y_pred = rfc.predict(X_test)\n",
    "    y_pred = pd.DataFrame(y_pred, columns=[\"prediction\"])\n",
    "\n",
    "    print(y_pred.head())"
   ]
  },
  {
   "cell_type": "code",
   "execution_count": null,
   "metadata": {},
   "outputs": [],
   "source": []
  }
 ],
 "metadata": {
  "kernelspec": {
   "display_name": "env",
   "language": "python",
   "name": "python3"
  },
  "language_info": {
   "codemirror_mode": {
    "name": "ipython",
    "version": 3
   },
   "file_extension": ".py",
   "mimetype": "text/x-python",
   "name": "python",
   "nbconvert_exporter": "python",
   "pygments_lexer": "ipython3",
   "version": "3.10.8"
  }
 },
 "nbformat": 4,
 "nbformat_minor": 2
}
